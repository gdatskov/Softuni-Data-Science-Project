{
 "cells": [
  {
   "cell_type": "code",
   "execution_count": 2,
   "id": "95b4a52b-213c-40d4-8778-6163edf6c5e5",
   "metadata": {},
   "outputs": [],
   "source": [
    "import pandas as pd\n",
    "import matplotlib.pyplot as plt\n",
    "import numpy as np\n",
    "from collections import deque, Counter"
   ]
  },
  {
   "cell_type": "code",
   "execution_count": 3,
   "id": "1359c766-717a-48fb-93d1-dd2823ada125",
   "metadata": {},
   "outputs": [],
   "source": [
    "pd.set_option('display.max_columns', None)\n",
    "pd.set_option('display.max_rows', None)\n",
    "pd.set_option('display.max_colwidth', None)"
   ]
  },
  {
   "cell_type": "code",
   "execution_count": 4,
   "id": "4c8628f2-3636-4064-8336-2d9309b0d9f3",
   "metadata": {},
   "outputs": [],
   "source": [
    "stack_overflow_survey_2020 = pd.read_csv(\"./data/stack_overflow_survey_2020/survey_results_public.csv\")"
   ]
  },
  {
   "cell_type": "code",
   "execution_count": 5,
   "id": "53a601f2-315b-4e82-8c4c-70bbff9e6775",
   "metadata": {},
   "outputs": [],
   "source": [
    "stack_overflow_survey_2020_questions = pd.read_csv(\"./data/stack_overflow_survey_2020/survey_results_schema.csv\")"
   ]
  },
  {
   "cell_type": "code",
   "execution_count": null,
   "id": "a5b0b535-c861-4f2e-9d2a-41ccc0915765",
   "metadata": {},
   "outputs": [],
   "source": [
    "stack_overflow_survey_2020_questions"
   ]
  },
  {
   "cell_type": "code",
   "execution_count": null,
   "id": "1f5f2132-9708-407b-a9b9-288f86d39a46",
   "metadata": {},
   "outputs": [],
   "source": [
    "pd.set_option('display.max_rows', 10)\n",
    "pd.set_option('display.max_colwidth', 50)"
   ]
  },
  {
   "cell_type": "code",
   "execution_count": null,
   "id": "d70c3336-af78-450c-8f8a-e4832b91ddd4",
   "metadata": {},
   "outputs": [],
   "source": [
    "stack_overflow_survey_2020.reset_index()\n",
    "stack_overflow_survey_2020.reindex()"
   ]
  },
  {
   "cell_type": "code",
   "execution_count": null,
   "id": "5470d817-130d-40c5-be8d-343599415c36",
   "metadata": {},
   "outputs": [],
   "source": []
  },
  {
   "cell_type": "markdown",
   "id": "bf4f9e3f-0ddb-46ff-8745-63cdff7c23d8",
   "metadata": {},
   "source": [
    "Whoaa wait... so much data. We should definitely drop some stuff we dont need. Our main goal is to get the salary and any relevant data - seniority level, experience, languages, technologies used, location etc..."
   ]
  },
  {
   "cell_type": "markdown",
   "id": "6c2a856f-0ed6-443e-aa18-f5c31c61df8d",
   "metadata": {},
   "source": [
    "We dont need \n",
    "Respondent ID; \n",
    "Age-, sex- or ethnicity-related;\n",
    "Currency related (as its already converted to annual USD); \n",
    "Job hunt/desire;\n",
    "all \"NEW\";\n",
    "all \"SO\";\n",
    "all other socially-related topics. \n",
    "Desired next stuff is also questionable, as it shouldnt be related to the already earned salary as it is earned with current skills and experience.\n",
    "When talking about job experience, hiring companies usually mean actual work experience, so we can drop \"School\" experience (YearsCode) and leave professional years of code (YearsCodePro).\n",
    "\n",
    "We can reorganize the columns a bit afterwards.\n",
    "\n"
   ]
  },
  {
   "cell_type": "code",
   "execution_count": null,
   "id": "89328a34-0c6a-4450-afa3-e8d0a8a1b703",
   "metadata": {},
   "outputs": [],
   "source": [
    "stack_overflow_survey_2020.iloc[69]"
   ]
  },
  {
   "cell_type": "code",
   "execution_count": null,
   "id": "57cdc390-042d-45ad-bd6a-75674a883371",
   "metadata": {},
   "outputs": [],
   "source": [
    "stack_overflow_survey_2020[\"DevType\"][69]"
   ]
  },
  {
   "cell_type": "code",
   "execution_count": null,
   "id": "d84fe010-2f70-4207-abe2-cd2331271f08",
   "metadata": {},
   "outputs": [],
   "source": [
    "stack_overflow_survey_2020.columns.tolist()"
   ]
  },
  {
   "cell_type": "code",
   "execution_count": null,
   "id": "e6dde1fc-943f-4303-ad62-13640a221469",
   "metadata": {},
   "outputs": [],
   "source": [
    "relevant_data = stack_overflow_survey_2020[[\n",
    "    'MainBranch',\n",
    "    'DevType',\n",
    "    'YearsCodePro',\n",
    "    'ConvertedComp',\n",
    "    'DatabaseWorkedWith',\n",
    "    'LanguageWorkedWith',\n",
    "    'MiscTechWorkedWith',\n",
    "    'PlatformWorkedWith',\n",
    "    'WebframeWorkedWith',\n",
    "    'OrgSize',\n",
    "    'Country',\n",
    "    'EdLevel',\n",
    "]]"
   ]
  },
  {
   "cell_type": "code",
   "execution_count": null,
   "id": "54f7b879-c248-45ad-8829-8a9daad9af91",
   "metadata": {},
   "outputs": [],
   "source": [
    "relevant_data"
   ]
  },
  {
   "cell_type": "markdown",
   "id": "6b3cb6b8-7cfd-43c7-ab1a-68b8357a1c69",
   "metadata": {},
   "source": [
    "Now, we should drop features without salary, as they dont serve any purpose to this research."
   ]
  },
  {
   "cell_type": "code",
   "execution_count": null,
   "id": "20f56f02-e7d8-4cb3-9411-7cac90f63198",
   "metadata": {},
   "outputs": [],
   "source": [
    "relevant_data = relevant_data[relevant_data[\"ConvertedComp\"].notna()]"
   ]
  },
  {
   "cell_type": "code",
   "execution_count": null,
   "id": "340e4c9d-3e4a-4173-a206-bd5bd677642d",
   "metadata": {},
   "outputs": [],
   "source": [
    "relevant_data"
   ]
  },
  {
   "cell_type": "markdown",
   "id": "34dfc111-1c93-4a22-92ea-35c0c6a4c0fb",
   "metadata": {},
   "source": [
    "Now, let's see branches..."
   ]
  },
  {
   "cell_type": "code",
   "execution_count": null,
   "id": "4382cf1d-5916-4cd9-acb8-d3c80565594b",
   "metadata": {},
   "outputs": [],
   "source": [
    "relevant_data[\"MainBranch\"].value_counts()"
   ]
  },
  {
   "cell_type": "markdown",
   "id": "f4f49d6b-0122-430f-b9d5-170e2bac0808",
   "metadata": {},
   "source": [
    "Let's cross-check with DevType before dropping non-dev professionals"
   ]
  },
  {
   "cell_type": "code",
   "execution_count": null,
   "id": "98e2d9d4-d05f-4e66-a143-008b47ebd26e",
   "metadata": {},
   "outputs": [],
   "source": [
    "branch_grouping = relevant_data[\"DevType\"].groupby(relevant_data[\"MainBranch\"])"
   ]
  },
  {
   "cell_type": "code",
   "execution_count": null,
   "id": "37b49aea-d24b-4cf5-b11b-9a783d1e6bb1",
   "metadata": {},
   "outputs": [],
   "source": [
    "# branch_grouping.get_group(\"I am not primarily a developer, but I write code sometimes as part of my work\").value_counts().to_dict()\n",
    "branch_grouping.get_group(\"I am not primarily a developer, but I write code sometimes as part of my work\").value_counts()"
   ]
  },
  {
   "cell_type": "markdown",
   "id": "4a46dd68-c012-48cf-9022-58358c8df87e",
   "metadata": {},
   "source": [
    "Well, that's a keeper. Seems a lot of professionals in the data science fields describe themselves as not developer."
   ]
  },
  {
   "cell_type": "markdown",
   "id": "f1855688-30a6-4a42-ae5b-202fe9059492",
   "metadata": {},
   "source": [
    "Basically, we dont care if its categorized as professional developer or not and we can drop that as well."
   ]
  },
  {
   "cell_type": "code",
   "execution_count": null,
   "id": "ef93e9f7-9c06-47bf-a900-b990330419c3",
   "metadata": {},
   "outputs": [],
   "source": [
    "relevant_data = relevant_data.drop(columns=\"MainBranch\")"
   ]
  },
  {
   "cell_type": "code",
   "execution_count": null,
   "id": "0c108d54-3c76-4c66-8250-ea476e046c62",
   "metadata": {},
   "outputs": [],
   "source": [
    "relevant_data"
   ]
  },
  {
   "cell_type": "markdown",
   "id": "c0bc695a-5ac6-4992-a727-4ed576ad2189",
   "metadata": {},
   "source": [
    "Now, let's explore technologies before segregating software engineers and data scientists"
   ]
  },
  {
   "cell_type": "code",
   "execution_count": null,
   "id": "24b944fe-13ac-41a4-b547-fc8f82b4b078",
   "metadata": {},
   "outputs": [],
   "source": [
    "pd.set_option('display.max_rows', 20)"
   ]
  },
  {
   "cell_type": "code",
   "execution_count": null,
   "id": "73f97b16-9b95-4339-8883-25db46f80645",
   "metadata": {
    "tags": []
   },
   "outputs": [],
   "source": [
    "relevant_data[\"DatabaseWorkedWith\"].value_counts().head(20)"
   ]
  },
  {
   "cell_type": "code",
   "execution_count": null,
   "id": "8ae43a08-b9b8-4583-9ebc-bb9d66b04803",
   "metadata": {
    "tags": []
   },
   "outputs": [],
   "source": [
    "relevant_data[\"LanguageWorkedWith\"].value_counts().head(20)"
   ]
  },
  {
   "cell_type": "code",
   "execution_count": null,
   "id": "ca1995f5-2293-4212-8fe5-4e7c0a0994bf",
   "metadata": {
    "tags": []
   },
   "outputs": [],
   "source": [
    "relevant_data[\"MiscTechWorkedWith\"].value_counts().head(20)"
   ]
  },
  {
   "cell_type": "code",
   "execution_count": null,
   "id": "2e124aad-c628-446e-87c6-bd1f19c56a7c",
   "metadata": {
    "tags": []
   },
   "outputs": [],
   "source": [
    "relevant_data[\"PlatformWorkedWith\"].value_counts().head(20)"
   ]
  },
  {
   "cell_type": "code",
   "execution_count": null,
   "id": "48bf7aa0-40d4-4966-abd7-e8951852da5c",
   "metadata": {
    "tags": []
   },
   "outputs": [],
   "source": [
    "relevant_data[\"WebframeWorkedWith\"].value_counts().head(20)"
   ]
  },
  {
   "cell_type": "code",
   "execution_count": null,
   "id": "533e1f62-47bd-49f4-bbc3-cdad14318e1a",
   "metadata": {
    "tags": []
   },
   "outputs": [],
   "source": [
    "relevant_data[\"OrgSize\"].value_counts()"
   ]
  },
  {
   "cell_type": "code",
   "execution_count": null,
   "id": "82954049-d818-4960-be65-2153b1a2328e",
   "metadata": {},
   "outputs": [],
   "source": [
    "relevant_data[\"Country\"].value_counts().head(20)"
   ]
  },
  {
   "cell_type": "code",
   "execution_count": null,
   "id": "10d170ad-8827-4292-a865-85e2e2b8121c",
   "metadata": {},
   "outputs": [],
   "source": [
    "relevant_data[\"EdLevel\"].value_counts()"
   ]
  },
  {
   "cell_type": "code",
   "execution_count": null,
   "id": "ebbe53d4-7c09-4d96-9b2c-8cc595f36496",
   "metadata": {},
   "outputs": [],
   "source": [
    "relevant_data[\"YearsCodePro\"].value_counts()"
   ]
  },
  {
   "cell_type": "markdown",
   "id": "0ca29624-ba94-4529-a767-03ee27962405",
   "metadata": {},
   "source": [
    "Quite a range... from less than 1 year to more than 50 :)"
   ]
  },
  {
   "cell_type": "markdown",
   "id": "75120d7b-0ca8-48cd-8ea2-222cdf0f1ab8",
   "metadata": {},
   "source": [
    "Ok, well, we will have some work with technology columns. Most probably extract all technologies and make new dataframes with each column."
   ]
  },
  {
   "cell_type": "code",
   "execution_count": null,
   "id": "b8950dc8-aaa2-42e0-8ed1-7b4b2f09054b",
   "metadata": {
    "tags": []
   },
   "outputs": [],
   "source": [
    "database_worked_with__dummies = relevant_data[\"DatabaseWorkedWith\"].str.get_dummies(\";\")\n",
    "database_worked_with__dummies.sum().sort_values(ascending=False)"
   ]
  },
  {
   "cell_type": "code",
   "execution_count": null,
   "id": "0a1064e4-b73c-4c9a-a341-68c915dacffa",
   "metadata": {
    "tags": []
   },
   "outputs": [],
   "source": [
    "language_worked_with__dummies = relevant_data[\"LanguageWorkedWith\"].str.get_dummies(\";\")\n",
    "language_worked_with__dummies.sum().sort_values(ascending=False)"
   ]
  },
  {
   "cell_type": "code",
   "execution_count": null,
   "id": "0fb57393-64b8-4955-a68c-15f2c99e1816",
   "metadata": {
    "tags": []
   },
   "outputs": [],
   "source": [
    "tech_worked_with__dummies = relevant_data[\"MiscTechWorkedWith\"].str.get_dummies(\";\")\n",
    "tech_worked_with__dummies.sum().sort_values(ascending=False)"
   ]
  },
  {
   "cell_type": "code",
   "execution_count": null,
   "id": "5a8f892d-f0c6-44a8-8eed-03dfb5ff258e",
   "metadata": {
    "tags": []
   },
   "outputs": [],
   "source": [
    "platform_worked_with__dummies = relevant_data[\"PlatformWorkedWith\"].str.get_dummies(\";\")\n",
    "platform_worked_with__dummies.sum().sort_values(ascending=False)"
   ]
  },
  {
   "cell_type": "code",
   "execution_count": null,
   "id": "d5ccf64c-a447-41a2-9f17-56ec5b06c75d",
   "metadata": {
    "tags": []
   },
   "outputs": [],
   "source": [
    "web_frame_worked_with__dummies = relevant_data[\"WebframeWorkedWith\"].str.get_dummies(\";\")\n",
    "web_frame_worked_with__dummies.sum().sort_values(ascending=False)"
   ]
  },
  {
   "cell_type": "code",
   "execution_count": null,
   "id": "9150ba87-2e8a-49ca-8fdd-10afffc0e9b0",
   "metadata": {
    "tags": []
   },
   "outputs": [],
   "source": [
    "job_type__dummies = relevant_data[\"DevType\"].str.get_dummies(\";\")\n",
    "job_type__dummies.sum().sort_values(ascending=False).to_dict()"
   ]
  },
  {
   "cell_type": "markdown",
   "id": "f97f8721-92fb-4207-b45d-927c3b8da9f2",
   "metadata": {},
   "source": [
    "Well, that makes our job type extraction a hell lot easier than what we did with the GlassDoor dataset... But it'll be harder to determine unique job as each person can have multiple job designations... Or just be extra careful when comparing numbers."
   ]
  },
  {
   "cell_type": "code",
   "execution_count": null,
   "id": "e1921c8c-9fc4-4896-ba5a-80118bf477b9",
   "metadata": {},
   "outputs": [],
   "source": [
    "job_type__dummies.sum().sum()"
   ]
  },
  {
   "cell_type": "code",
   "execution_count": null,
   "id": "28ae7e13-09f4-4b4a-9d36-ba8e30420a1c",
   "metadata": {},
   "outputs": [],
   "source": [
    "job_type__dummies"
   ]
  },
  {
   "cell_type": "code",
   "execution_count": null,
   "id": "7ce94435-df4d-4145-bd5d-c6572b3162c8",
   "metadata": {},
   "outputs": [],
   "source": [
    "# job_type__dummies[\"Salary\"] = relevant_data[\"ConvertedComp\"]"
   ]
  },
  {
   "cell_type": "code",
   "execution_count": null,
   "id": "4f424242-9d30-472b-8024-244700b35a3a",
   "metadata": {},
   "outputs": [],
   "source": [
    "# job_type__dummies"
   ]
  },
  {
   "cell_type": "code",
   "execution_count": null,
   "id": "b269b370-4df2-42e3-83a7-69aee0c91d41",
   "metadata": {},
   "outputs": [],
   "source": [
    "salaries_by_factor = pd.DataFrame()"
   ]
  },
  {
   "cell_type": "code",
   "execution_count": null,
   "id": "9dcd79e3-8da9-4942-a6d2-d50ecd91fefd",
   "metadata": {},
   "outputs": [],
   "source": [
    "number_of_jobs_by_type = job_type__dummies.sum()\n",
    "number_of_jobs_by_type"
   ]
  },
  {
   "cell_type": "code",
   "execution_count": null,
   "id": "52c0e9ab-a45a-4805-b0c4-8ddaa0799d05",
   "metadata": {},
   "outputs": [],
   "source": [
    "relevant_data[\"ConvertedComp\"][relevant_data[\"ConvertedComp\"].isnull()]"
   ]
  },
  {
   "cell_type": "code",
   "execution_count": null,
   "id": "6e57b193-86c5-45db-9dd6-779059bd4c84",
   "metadata": {},
   "outputs": [],
   "source": [
    "%%timeit\n",
    "condition = relevant_data[\"DevType\"].str.contains(\"Academic researcher\").astype(bool)\n",
    "condition"
   ]
  },
  {
   "cell_type": "code",
   "execution_count": null,
   "id": "afcb5a57-8b2a-4d3a-bbc0-210e4ec466d1",
   "metadata": {},
   "outputs": [],
   "source": [
    "%%timeit\n",
    "alt_condition = job_type__dummies[\"Academic researcher\"].astype(bool)\n",
    "alt_condition"
   ]
  },
  {
   "cell_type": "code",
   "execution_count": null,
   "id": "eb5d1114-8ce1-4b1b-8610-3c3168028ee2",
   "metadata": {},
   "outputs": [],
   "source": [
    "condition = relevant_data[\"DevType\"].str.contains(\"Academic researcher\").astype(bool)\n",
    "condition"
   ]
  },
  {
   "cell_type": "code",
   "execution_count": null,
   "id": "9b84ad99-a414-4b7e-918a-b40b8058f45d",
   "metadata": {},
   "outputs": [],
   "source": [
    "alt_condition = job_type__dummies[\"Academic researcher\"].astype(bool)\n",
    "alt_condition"
   ]
  },
  {
   "cell_type": "code",
   "execution_count": null,
   "id": "c1859afb-c389-4aae-8ea9-566ce22d92ab",
   "metadata": {},
   "outputs": [],
   "source": [
    "compare_conditions = condition == alt_condition\n",
    "compare_conditions"
   ]
  },
  {
   "cell_type": "code",
   "execution_count": null,
   "id": "0bb6749a-3750-490a-8962-9175e907f4f0",
   "metadata": {},
   "outputs": [],
   "source": [
    "compare_conditions[compare_conditions == False]"
   ]
  },
  {
   "cell_type": "code",
   "execution_count": null,
   "id": "24613545-a795-4ca0-9f14-ec21673d2298",
   "metadata": {},
   "outputs": [],
   "source": [
    "relevant_data.loc[69]"
   ]
  },
  {
   "cell_type": "markdown",
   "id": "6e0f9dc1-cae8-4cf0-a179-485546c3a726",
   "metadata": {},
   "source": [
    "Hmmm... it's not indexation problem. It's just that pd.get_dummies() exclude \"NaN\" and we end up with non-existing dummy values which we care about and we want them in..."
   ]
  },
  {
   "cell_type": "code",
   "execution_count": null,
   "id": "9b2898c2-19d6-45c8-8155-8b1a6ab29bbd",
   "metadata": {},
   "outputs": [],
   "source": [
    "try: job_type__dummies.loc(69)\n",
    "except ValueError:\n",
    "    print(\"Axis does not exist\")"
   ]
  },
  {
   "cell_type": "markdown",
   "id": "27b362dd-02ee-4eab-9c12-5cf5d3bdfa1b",
   "metadata": {},
   "source": [
    "We should either recreate all dummies to include \"NaN\" or fix \"NaN\"... Recreating dummies seems easier at that point, as it's 01:07 O'clock..."
   ]
  },
  {
   "cell_type": "code",
   "execution_count": null,
   "id": "7cbe3cfa-f0eb-4594-9a2f-591a03412868",
   "metadata": {},
   "outputs": [],
   "source": [
    "try:\n",
    "    database_worked_with__dummies = relevant_data[\"DatabaseWorkedWith\"].str.get_dummies(\";\", dummy_na=True)\n",
    "    language_worked_with__dummies = relevant_data[\"LanguageWorkedWith\"].str.get_dummies(\";\", dummy_na=True)\n",
    "    tech_worked_with__dummies = relevant_data[\"MiscTechWorkedWith\"].str.get_dummies(\";\", dummy_na=True)\n",
    "    platform_worked_with__dummies = relevant_data[\"PlatformWorkedWith\"].str.get_dummies(\";\", dummy_na=True)\n",
    "    web_frame_worked_with__dummies = relevant_data[\"WebframeWorkedWith\"].str.get_dummies(\";\", dummy_na=True)\n",
    "    job_type__dummies = relevant_data[\"DevType\"].str.get_dummies(\";\", dummy_na=True)\n",
    "except Exception as error:\n",
    "    print(error)"
   ]
  },
  {
   "cell_type": "markdown",
   "id": "37914219-d33a-4ff5-9b42-cf9faeff6b08",
   "metadata": {},
   "source": [
    "Nope! pd.get_dummies() can include NaN, but pd.Series.str.get_dummies() cannot... !@#$!@$@!$#@!\n",
    "\n",
    "We gotta go the hard way. AND we must recreate the dummies anyway."
   ]
  },
  {
   "cell_type": "code",
   "execution_count": null,
   "id": "85184213-d6b8-410d-9c17-cc3cf442dfe2",
   "metadata": {},
   "outputs": [],
   "source": [
    "relevant_data[\"DevType\"].fillna(\"Not specified\", inplace=True)"
   ]
  },
  {
   "cell_type": "code",
   "execution_count": null,
   "id": "302e7a7f-d39a-4987-9072-383d7a1d854a",
   "metadata": {},
   "outputs": [],
   "source": [
    "database_worked_with__dummies = relevant_data[\"DatabaseWorkedWith\"].str.get_dummies(\";\")\n",
    "language_worked_with__dummies = relevant_data[\"LanguageWorkedWith\"].str.get_dummies(\";\")\n",
    "tech_worked_with__dummies = relevant_data[\"MiscTechWorkedWith\"].str.get_dummies(\";\")\n",
    "platform_worked_with__dummies = relevant_data[\"PlatformWorkedWith\"].str.get_dummies(\";\")\n",
    "web_frame_worked_with__dummies = relevant_data[\"WebframeWorkedWith\"].str.get_dummies(\";\")\n",
    "job_type__dummies = relevant_data[\"DevType\"].str.get_dummies(\";\")\n",
    "number_of_jobs_by_type = job_type__dummies.sum()"
   ]
  },
  {
   "cell_type": "code",
   "execution_count": null,
   "id": "e500c3b8-776f-4922-bd73-93c32b1f32e6",
   "metadata": {},
   "outputs": [],
   "source": [
    "condition = relevant_data[\"DevType\"].str.contains(\"Academic researcher\")\n",
    "alt_condition = job_type__dummies[\"Academic researcher\"]\n",
    "compare_conditions = condition == alt_condition\n",
    "compare_conditions[compare_conditions == False]"
   ]
  },
  {
   "cell_type": "markdown",
   "id": "b4e5aa82-9f37-495a-ac7f-5935f0a02431",
   "metadata": {},
   "source": [
    "Good. Job done... Somewhat..."
   ]
  },
  {
   "cell_type": "code",
   "execution_count": null,
   "id": "eaa23aa8-9cc3-457d-92c0-59901a33b9ba",
   "metadata": {},
   "outputs": [],
   "source": [
    "# alt_condition = job_type__dummies[\"Academic researcher\"]\n",
    "condition = alt_condition"
   ]
  },
  {
   "cell_type": "code",
   "execution_count": null,
   "id": "2911aefe-8f6d-4360-80a0-0ca855905973",
   "metadata": {},
   "outputs": [],
   "source": [
    "try:\n",
    "    relevant_data[\"ConvertedComp\"][condition]\n",
    "except Exception as error:\n",
    "    print(error)"
   ]
  },
  {
   "cell_type": "markdown",
   "id": "f7bd4e77-fd6b-4c9c-b237-e1f5e0a015e2",
   "metadata": {},
   "source": [
    "Zero is not False..."
   ]
  },
  {
   "cell_type": "code",
   "execution_count": null,
   "id": "d781858b-6e0a-4baf-919d-5e63355e7841",
   "metadata": {},
   "outputs": [],
   "source": [
    "condition = alt_condition.astype(bool)"
   ]
  },
  {
   "cell_type": "code",
   "execution_count": null,
   "id": "8dd18996-880a-4618-89af-15b74a851812",
   "metadata": {},
   "outputs": [],
   "source": [
    "relevant_data[\"ConvertedComp\"][condition] # salaries of people declared a certain job(as condition) = \"Academic researcher\" in this case"
   ]
  },
  {
   "cell_type": "markdown",
   "id": "03a18795-6f7d-4599-8d6b-5b4cc351634e",
   "metadata": {},
   "source": [
    "We can definitely see some outliers, for example #194. Should do something about it."
   ]
  },
  {
   "cell_type": "code",
   "execution_count": null,
   "id": "da4c0e69-9e2e-4796-b4a3-45f09c263663",
   "metadata": {},
   "outputs": [],
   "source": [
    "millionaires = relevant_data[\"ConvertedComp\"][relevant_data[\"ConvertedComp\"] > 500000]\n",
    "millionaires"
   ]
  },
  {
   "cell_type": "markdown",
   "id": "687b660d-1143-451e-92c9-d332e1470bcb",
   "metadata": {},
   "source": [
    "Seriously? 1226 people declared they earn more than 500k yearly as software developer?! Let's check if they are CEO's or something..."
   ]
  },
  {
   "cell_type": "code",
   "execution_count": null,
   "id": "d25b5626-aca9-42ec-927b-565693f0e58f",
   "metadata": {},
   "outputs": [],
   "source": [
    "pd.options.display.float_format = '{:.1f}'.format\n",
    "millionaires_data = stack_overflow_survey_2020.loc[millionaires.index]\n",
    "millionaires_data"
   ]
  },
  {
   "cell_type": "markdown",
   "id": "558a1d42-17e8-4268-8b19-be60ebf2d792",
   "metadata": {},
   "source": [
    "Well. Just from the sample first5-last5 we can see there are errors due to payment frequencies or falsy data. Some of the payments may be true though. Let's check further."
   ]
  },
  {
   "cell_type": "markdown",
   "id": "21a6b474-b6e1-47bd-93a2-b3e50281d276",
   "metadata": {},
   "source": [
    "For people from USA is clear enough. Their salaries are always yearly-based, but often weekly- or monthly-paid. That's an easy fix, I guess..."
   ]
  },
  {
   "cell_type": "code",
   "execution_count": null,
   "id": "f82b1d4d-26b1-4ade-a165-0ca1a83de85d",
   "metadata": {},
   "outputs": [],
   "source": [
    "millionaires_data = millionaires_data[stack_overflow_survey_2020[\"Country\"] != \"United States\"]\n",
    "millionaires_data"
   ]
  },
  {
   "cell_type": "code",
   "execution_count": null,
   "id": "139d4909-6403-40be-86c2-d8ac8a668939",
   "metadata": {},
   "outputs": [],
   "source": [
    "# millionaires_data[[\"CompTotal\", \"CompFreq\"]].groupby(millionaires_data[\"Country\"]).value_counts().to_dict()\n",
    "millionaires_data[[\"ConvertedComp\", \"CompTotal\", \"CompFreq\", \"CurrencyDesc\"]].groupby(millionaires_data[\"Country\"]).value_counts()"
   ]
  },
  {
   "cell_type": "markdown",
   "id": "a0d86fe5-e71f-4a04-a5af-dbefc167cf9d",
   "metadata": {},
   "source": [
    "Mostly are either mistakes or just trolls. We can try to convert them from weekly or monthly to year-basis and after that get rid of trolls.\n",
    "\n",
    "But we shouldnt ignore the top country economies income, mainly in Europe (e.g. Germany, UK, France) in which 500k per year may be plausible to some extent... We might also check USA and other leading economies (let's say Japan, Korea, Singapore, etc) on that as well...\n",
    "\n",
    "Maybe we should see dispersions on top economies or top earners by country (without these outliers) and compare them to mean() and max() and fix them on that basis.\n",
    "\n",
    "Let's revert it back with USA ppl and leave it for now."
   ]
  },
  {
   "cell_type": "code",
   "execution_count": null,
   "id": "148b07a3-a5c9-4276-9a7c-74c5454615d9",
   "metadata": {},
   "outputs": [],
   "source": [
    "millionaires = relevant_data[\"ConvertedComp\"][relevant_data[\"ConvertedComp\"] > 500000]\n",
    "millionaires_data = stack_overflow_survey_2020.loc[millionaires.index]"
   ]
  },
  {
   "cell_type": "code",
   "execution_count": null,
   "id": "5965a019-0472-49f1-acb3-f7f77af38cb3",
   "metadata": {},
   "outputs": [],
   "source": [
    "millionaires_data[[\"ConvertedComp\", \"CompTotal\", \"CompFreq\", \"CurrencyDesc\"]].groupby(millionaires_data[\"Country\"]).value_counts()"
   ]
  },
  {
   "cell_type": "code",
   "execution_count": null,
   "id": "17727d53-8d64-4a95-ac5a-7a7f87d939ce",
   "metadata": {},
   "outputs": [],
   "source": [
    "relevant_data[\"ConvertedComp\"][condition].sum()/number_of_jobs_by_type[\"Academic researcher\"]"
   ]
  },
  {
   "cell_type": "code",
   "execution_count": null,
   "id": "1c1fac2d-626d-439c-a008-b6eba58e38d4",
   "metadata": {},
   "outputs": [],
   "source": [
    "no_millionaires = relevant_data.drop(millionaires.index)"
   ]
  },
  {
   "cell_type": "code",
   "execution_count": null,
   "id": "298f93f5-6144-49c9-9b2e-a1cff64823f5",
   "metadata": {},
   "outputs": [],
   "source": [
    "len(no_millionaires) + len(millionaires) == len(relevant_data)"
   ]
  },
  {
   "cell_type": "code",
   "execution_count": null,
   "id": "bbbf9b0a-ec18-4506-a11b-a81d5663f551",
   "metadata": {},
   "outputs": [],
   "source": [
    "no_millionaires"
   ]
  },
  {
   "cell_type": "code",
   "execution_count": null,
   "id": "7cef5623-a21f-4f68-8bda-e45163dec565",
   "metadata": {},
   "outputs": [],
   "source": [
    "salaries_by_factor = pd.DataFrame()"
   ]
  },
  {
   "cell_type": "code",
   "execution_count": null,
   "id": "4d51aafa-143e-48dc-8541-8e33264a1a64",
   "metadata": {},
   "outputs": [],
   "source": [
    "# Mean salaries by developer type\n",
    "job_type_salaries = {}\n",
    "for column in job_type__dummies:\n",
    "    # condition = relevant_data[\"DevType\"].str.contains(column).astype(bool)\n",
    "    condition = job_type__dummies[column].astype(bool)\n",
    "    # salaries_sum = no_millionaires[\"ConvertedComp\"][condition].sum()\n",
    "    salaries_mean = no_millionaires[\"ConvertedComp\"][condition].mean()\n",
    "    # number_submissions_this_type = number_of_jobs_by_type[column]\n",
    "    # average_salary_by_type = salaries_sum/number_submissions_this_type\n",
    "    # job_type_salaries[column] = average_salary_by_type\n",
    "    job_type_salaries[column] = salaries_mean"
   ]
  },
  {
   "cell_type": "code",
   "execution_count": null,
   "id": "60b8ecb4-d8d4-403b-8beb-8b9eb0acfc7c",
   "metadata": {},
   "outputs": [],
   "source": [
    "job_type_salaries"
   ]
  },
  {
   "cell_type": "code",
   "execution_count": null,
   "id": "eed5c5e8-346b-4e8e-b0cd-40a0f0d0373f",
   "metadata": {},
   "outputs": [],
   "source": [
    "salaries_by_factor = pd.DataFrame.from_dict(job_type_salaries, orient='index', columns=[\"Average below 500k\"])"
   ]
  },
  {
   "cell_type": "code",
   "execution_count": null,
   "id": "12e3dd05-8a79-4c0d-96ae-18e93dded528",
   "metadata": {},
   "outputs": [],
   "source": [
    "salaries_by_factor[\"Average below 500k\"].sort_values(ascending=False).to_dict()"
   ]
  },
  {
   "cell_type": "code",
   "execution_count": null,
   "id": "7b7de564-bf98-41d9-9dff-eab611205e00",
   "metadata": {},
   "outputs": [],
   "source": [
    "# Max salaries by developer type\n",
    "job_type_salaries = {}\n",
    "for column in job_type__dummies:\n",
    "    # condition = relevant_data[\"DevType\"].str.contains(column).astype(bool)\n",
    "    condition = job_type__dummies[column].astype(bool)\n",
    "    salaries_max = no_millionaires[\"ConvertedComp\"][condition].max()\n",
    "    job_type_salaries[column] = salaries_max"
   ]
  },
  {
   "cell_type": "code",
   "execution_count": null,
   "id": "bbcdfa3d-5b35-41fe-853a-7db748f28b02",
   "metadata": {},
   "outputs": [],
   "source": [
    "max_salaries_by_type = pd.DataFrame.from_dict(job_type_salaries, orient='index', columns=[\"Max salaries below 500k\"])"
   ]
  },
  {
   "cell_type": "code",
   "execution_count": null,
   "id": "c8ee9914-d034-446b-8142-591fbe4c8405",
   "metadata": {},
   "outputs": [],
   "source": [
    "max_salaries_by_type.to_dict()"
   ]
  },
  {
   "cell_type": "markdown",
   "id": "35eb93c2-4acf-4c3e-8e0b-84ef44a06586",
   "metadata": {},
   "source": [
    "Just max wont work... we should delve into some statistics..."
   ]
  },
  {
   "cell_type": "markdown",
   "id": "829d8e52-62f7-4809-8e76-4912cb8cd010",
   "metadata": {},
   "source": [
    "Talking about max, lets check min as well..."
   ]
  },
  {
   "cell_type": "code",
   "execution_count": null,
   "id": "72c65a75-a99d-4d9b-a3f6-49a197991b7b",
   "metadata": {},
   "outputs": [],
   "source": [
    "# Max salaries by developer type\n",
    "job_type_salaries = {}\n",
    "for column in job_type__dummies:\n",
    "    # condition = relevant_data[\"DevType\"].str.contains(column).astype(bool)\n",
    "    condition = job_type__dummies[column].astype(bool)\n",
    "    salaries_min = no_millionaires[\"ConvertedComp\"][condition].min()\n",
    "    job_type_salaries[column] = salaries_min"
   ]
  },
  {
   "cell_type": "code",
   "execution_count": null,
   "id": "b457f1cf-fe87-4c5b-b98f-0cdeedbda572",
   "metadata": {},
   "outputs": [],
   "source": [
    "min_salaries_by_type = pd.DataFrame.from_dict(job_type_salaries, orient='index', columns=[\"Min salaries below 500k\"])"
   ]
  },
  {
   "cell_type": "code",
   "execution_count": null,
   "id": "a75bb57b-15d0-4f3c-ae41-43d7be56a007",
   "metadata": {},
   "outputs": [],
   "source": [
    "min_salaries_by_type.to_dict()"
   ]
  },
  {
   "cell_type": "markdown",
   "id": "1bd3c48a-14fa-46b3-b1b1-56f98cf4ebeb",
   "metadata": {},
   "source": [
    "Ah... zeros... We shall definitely clean all outliers and get the mean."
   ]
  },
  {
   "cell_type": "code",
   "execution_count": null,
   "id": "c4f95c58-ac80-4c9c-87e6-7ba2a804da58",
   "metadata": {},
   "outputs": [],
   "source": [
    "condition = job_type__dummies['Academic researcher'].astype(bool)\n",
    "data_statistics = relevant_data[\"ConvertedComp\"][condition].describe().to_dict()\n",
    "data_statistics\n",
    "\n",
    "# StackOverflow cheat:\n",
    "# median = np.median(data)\n",
    "# upper_quartile = np.percentile(data, 75)\n",
    "# lower_quartile = np.percentile(data, 25)\n",
    "# iqr = upper_quartile - lower_quartile\n",
    "# upper_whisker = data[data<=upper_quartile+1.5*iqr].max()\n",
    "# lower_whisker = data[data>=lower_quartile-1.5*iqr].min()"
   ]
  },
  {
   "cell_type": "code",
   "execution_count": null,
   "id": "902e612e-eb76-49c2-b4ff-bf923b90ace7",
   "metadata": {},
   "outputs": [],
   "source": [
    "plt.figure(figsize=(5,10))\n",
    "plt.boxplot(relevant_data[\"ConvertedComp\"][condition])\n",
    "box = plt.boxplot(relevant_data[\"ConvertedComp\"][condition])\n",
    "plt.show()"
   ]
  },
  {
   "cell_type": "code",
   "execution_count": null,
   "id": "79e15bcf-6674-44bf-aead-017d2368c5e2",
   "metadata": {},
   "outputs": [],
   "source": [
    "extremes = [item.get_ydata()[1] for item in box['whiskers']]\n",
    "extremes"
   ]
  },
  {
   "cell_type": "code",
   "execution_count": null,
   "id": "42bd553d-eacf-4f8a-9da7-5f68c831abb5",
   "metadata": {},
   "outputs": [],
   "source": [
    "box"
   ]
  },
  {
   "cell_type": "code",
   "execution_count": null,
   "id": "31175377-fb7c-40bf-a799-0a786d598ab4",
   "metadata": {},
   "outputs": [],
   "source": [
    "seventy_five = data_statistics[\"75%\"]\n",
    "twenty_five = data_statistics[\"25%\"]\n",
    "mean = data_statistics[\"mean\"]\n",
    "iqr = seventy_five - twenty_five\n",
    "upper = seventy_five + 1.5*iqr\n",
    "lower = twenty_five - 1.5*iqr"
   ]
  },
  {
   "cell_type": "code",
   "execution_count": null,
   "id": "dbcac653-4723-4327-9d93-35e21ef5d286",
   "metadata": {},
   "outputs": [],
   "source": [
    "upper"
   ]
  },
  {
   "cell_type": "code",
   "execution_count": null,
   "id": "6ef3b2c9-6870-43cc-962a-eaea62c35c5e",
   "metadata": {},
   "outputs": [],
   "source": [
    "lower"
   ]
  },
  {
   "cell_type": "code",
   "execution_count": null,
   "id": "e7ffaab8-6601-466a-a259-950558c85327",
   "metadata": {},
   "outputs": [],
   "source": [
    "mean"
   ]
  },
  {
   "cell_type": "markdown",
   "id": "c678bf0c-fd66-4724-85a1-af3980e97112",
   "metadata": {},
   "source": [
    "Alright. This shows that we have a lot of inaccurate data, but what to do...\n",
    "\n",
    "Stick to the original plan and cut out \"millionaires\" or leave it like that? Maybe check it out?\n",
    "\n",
    "Since the distribution is highly skewed (mean >> median) maybe it's a good idea to accept the median as our average salary."
   ]
  },
  {
   "cell_type": "code",
   "execution_count": null,
   "id": "1e44ec9f-1ab8-4f56-8e4c-736218229121",
   "metadata": {},
   "outputs": [],
   "source": [
    "condition = job_type__dummies['Academic researcher'].astype(bool)\n",
    "data_statistics = no_millionaires[\"ConvertedComp\"][condition].describe().to_dict()\n",
    "data_statistics"
   ]
  },
  {
   "cell_type": "code",
   "execution_count": null,
   "id": "701e9ee7-0f5a-4cb7-a384-3186fedda9cd",
   "metadata": {},
   "outputs": [],
   "source": [
    "plt.figure(figsize=(5,10))\n",
    "plt.boxplot(no_millionaires[\"ConvertedComp\"][condition])\n",
    "box = plt.boxplot(no_millionaires[\"ConvertedComp\"][condition])\n",
    "plt.show()"
   ]
  },
  {
   "cell_type": "code",
   "execution_count": null,
   "id": "1d0e8d91-51fd-424a-82f1-3028cf63c7b2",
   "metadata": {},
   "outputs": [],
   "source": [
    "extremes = [item.get_ydata()[1] for item in box['whiskers']]\n",
    "extremes"
   ]
  },
  {
   "cell_type": "code",
   "execution_count": null,
   "id": "2e0ec476-7fa8-4a05-8ee2-ba77c896558d",
   "metadata": {},
   "outputs": [],
   "source": [
    "seventy_five = data_statistics[\"75%\"]\n",
    "twenty_five = data_statistics[\"25%\"]\n",
    "mean = data_statistics[\"mean\"]\n",
    "iqr = seventy_five - twenty_five\n",
    "upper = seventy_five + 1.5*iqr\n",
    "lower = twenty_five - 1.5*iqr"
   ]
  },
  {
   "cell_type": "code",
   "execution_count": null,
   "id": "2b99265c-7204-40eb-8c82-175ca6a645f5",
   "metadata": {},
   "outputs": [],
   "source": [
    "upper"
   ]
  },
  {
   "cell_type": "code",
   "execution_count": null,
   "id": "0e7c37d4-536e-46d1-8cb5-08dbfaf3fd5d",
   "metadata": {},
   "outputs": [],
   "source": [
    "lower"
   ]
  },
  {
   "cell_type": "markdown",
   "id": "8914c154-5d7d-43e2-a634-8d5e40791848",
   "metadata": {},
   "source": [
    "Alright. The Mean looks better this time. Let's continue this way."
   ]
  },
  {
   "cell_type": "code",
   "execution_count": null,
   "id": "88abff39-bb9a-4984-92f9-9cd63b2443a3",
   "metadata": {},
   "outputs": [],
   "source": [
    "database_worked_with__dummies = no_millionaires[\"DatabaseWorkedWith\"].str.get_dummies(\";\")\n",
    "language_worked_with__dummies = no_millionaires[\"LanguageWorkedWith\"].str.get_dummies(\";\")\n",
    "tech_worked_with__dummies = no_millionaires[\"MiscTechWorkedWith\"].str.get_dummies(\";\")\n",
    "platform_worked_with__dummies = no_millionaires[\"PlatformWorkedWith\"].str.get_dummies(\";\")\n",
    "web_frame_worked_with__dummies = no_millionaires[\"WebframeWorkedWith\"].str.get_dummies(\";\")\n",
    "job_type__dummies = no_millionaires[\"DevType\"].str.get_dummies(\";\")\n",
    "country_dummies = no_millionaires[\"Country\"].str.get_dummies(\";\")\n",
    "number_of_jobs_by_type = job_type__dummies.sum()"
   ]
  },
  {
   "cell_type": "code",
   "execution_count": null,
   "id": "657ddca3-86d5-4f43-b4f0-ea80cc4792da",
   "metadata": {},
   "outputs": [],
   "source": [
    "# Mean salaries by developer type\n",
    "def get_mean_salary_by_factor(dataframe, factor_series):\n",
    "    dummy_df = factor_series.str.get_dummies(\";\")\n",
    "    series_dict = {}\n",
    "    for column in dummy_df:\n",
    "        condition = dummy_df[column].astype(bool)\n",
    "        mean = dataframe[\"ConvertedComp\"][condition].mean()\n",
    "        series_dict[column] = mean\n",
    "    return series_dict"
   ]
  },
  {
   "cell_type": "code",
   "execution_count": null,
   "id": "6cb921f1-cf53-43a5-a7bc-4a5b1180542c",
   "metadata": {},
   "outputs": [],
   "source": [
    "average_salary = pd.DataFrame.from_dict(get_mean_salary_by_factor(no_millionaires, no_millionaires[\"DevType\"]), orient='index', columns=[\"Average by DevType\"])\n",
    "average_salary[\"Average by DevType\"].sort_values(ascending=False).to_dict()"
   ]
  },
  {
   "cell_type": "code",
   "execution_count": null,
   "id": "73d3e57f-b38e-49b9-ae79-b37b46c1e8d5",
   "metadata": {},
   "outputs": [],
   "source": [
    "average_salary = average_salary[\"Average by DevType\"].sort_values(ascending=True)"
   ]
  },
  {
   "cell_type": "code",
   "execution_count": null,
   "id": "df9d1f17-8138-4871-ab61-39fee2d0967d",
   "metadata": {},
   "outputs": [],
   "source": [
    "average_salary"
   ]
  },
  {
   "cell_type": "code",
   "execution_count": null,
   "id": "dc1f2cff-47c3-404b-a14e-43b242fd4edd",
   "metadata": {},
   "outputs": [],
   "source": [
    "plt.figure(figsize=(10, 10))\n",
    "plt.barh(average_salary.index, average_salary.values)\n",
    "plt.xlabel(\"USD, Annual\")\n",
    "plt.title(\"Annual salary by job type - Worldwide\")\n",
    "plt.show()"
   ]
  },
  {
   "cell_type": "code",
   "execution_count": null,
   "id": "36ff4eb5-eb03-4c1b-a73d-37555a10f50b",
   "metadata": {},
   "outputs": [],
   "source": [
    "data_bulgaria = relevant_data[relevant_data[\"Country\"] == \"Bulgaria\"]"
   ]
  },
  {
   "cell_type": "code",
   "execution_count": null,
   "id": "a574a4bd-a1de-4e4a-83a1-e6a42c0a2b06",
   "metadata": {},
   "outputs": [],
   "source": [
    "data_bulgaria"
   ]
  },
  {
   "cell_type": "code",
   "execution_count": null,
   "id": "a8384e0b-e25c-4d59-9647-19f5d7e13b8c",
   "metadata": {},
   "outputs": [],
   "source": [
    "average_salary_bg = pd.DataFrame.from_dict(get_mean_salary_by_factor(data_bulgaria, data_bulgaria[\"DevType\"]), orient='index', columns=[\"Average by DevType\"])\n",
    "average_salary_bg = average_salary_bg.drop(\"Not specified\")\n",
    "average_salary_bg = average_salary_bg[\"Average by DevType\"].sort_values(ascending=True)"
   ]
  },
  {
   "cell_type": "code",
   "execution_count": null,
   "id": "e8709523-fd98-421c-9d82-5276fd709b2d",
   "metadata": {},
   "outputs": [],
   "source": [
    "average_salary_bg"
   ]
  },
  {
   "cell_type": "code",
   "execution_count": null,
   "id": "7c74ee74-784b-41a1-85a7-a2e3548d3a28",
   "metadata": {},
   "outputs": [],
   "source": [
    "plt.figure(figsize=(10, 10))\n",
    "plt.barh(average_salary_bg.index, average_salary_bg.values, color ='green')\n",
    "plt.xlabel(\"USD, Annual\")\n",
    "plt.title(\"Annual salary by job type - Bulgaria\")\n",
    "plt.show()"
   ]
  },
  {
   "cell_type": "code",
   "execution_count": null,
   "id": "841d4fa6-d176-4174-9eee-d0e9307a70cc",
   "metadata": {},
   "outputs": [],
   "source": [
    "country_dummies.sum().sort_values(ascending=False)"
   ]
  },
  {
   "cell_type": "code",
   "execution_count": null,
   "id": "d20f3697-6fbf-47b8-a983-b9f62f80ff16",
   "metadata": {},
   "outputs": [],
   "source": [
    "countries = no_millionaires[\"Country\"].unique()"
   ]
  },
  {
   "cell_type": "code",
   "execution_count": null,
   "id": "fa2c1e54-ca48-454a-92d4-eae8890c029a",
   "metadata": {},
   "outputs": [],
   "source": [
    "no_millionaires[\"ConvertedComp\"][(no_millionaires[\"Country\"] == \"Canada\") & (\"Academic Researcher\" in no_millionaires[\"DevType\"].str)].mean()"
   ]
  },
  {
   "cell_type": "code",
   "execution_count": null,
   "id": "5a24e17c-9f72-498c-8925-f340c73c27bf",
   "metadata": {},
   "outputs": [],
   "source": [
    "# Mean salaries by developer type\n",
    "def get_mean_salary_by_factor(dataframe, factor_series):\n",
    "    dummy_df = factor_series.str.get_dummies(\";\")\n",
    "    series_dict = {}\n",
    "    for column in dummy_df:\n",
    "        condition = dummy_df[column].astype(bool)\n",
    "        mean = dataframe[\"ConvertedComp\"][condition].mean()\n",
    "        series_dict[column] = mean\n",
    "    return series_dict\n",
    "\n",
    "def get_most_used_by_job_type(professional_series, factor_series):\n",
    "professional_types = professional_series.str.get_dummies(\";\").columns\n",
    "dummy_df = factor_series.str.get_dummies(\";\")\n",
    "serie_list = []\n",
    "for typ in professional_types:\n",
    "    serie = pd.Series(dummy_df[professional_series == typ].sum(), name=typ)\n",
    "    serie_sum = serie.sum()\n",
    "    serie = serie.apply(lambda x: x/serie_sum*100)\n",
    "    # print(serie.sum())\n",
    "    serie_list.append(serie)\n",
    "return pd.DataFrame(serie_list)\n",
    "\n",
    "def get_job_type_profit_per_country(professional_series, salary_series, country_series):\n",
    "    countries = country_series.unique()\n",
    "    professional_types = professional_series.str.get_dummies(\";\").columns\n",
    "    salaries = profit_series.str.get_dummies(\";\")\n",
    "    for country in countries:\n",
    "        serie = pd.Series()"
   ]
  },
  {
   "cell_type": "code",
   "execution_count": null,
   "id": "ee2d8525-33a9-412f-9363-f910d1e165f8",
   "metadata": {},
   "outputs": [],
   "source": []
  },
  {
   "cell_type": "code",
   "execution_count": null,
   "id": "b266b9a6-a443-459f-89f0-af5e35d06a1c",
   "metadata": {},
   "outputs": [],
   "source": []
  },
  {
   "cell_type": "code",
   "execution_count": null,
   "id": "d6eeda13-2cb2-4281-b7ae-ff9a098b30b8",
   "metadata": {},
   "outputs": [],
   "source": [
    "def get_most_used_by_job_type(professional_series, factor_series):\n",
    "    professional_types = professional_series.str.get_dummies(\";\").columns\n",
    "    dummy_df = factor_series.str.get_dummies(\";\")\n",
    "    serie_list = []\n",
    "    for typ in professional_types:\n",
    "        serie = pd.Series(dummy_df[professional_series == typ].sum(), name=typ)\n",
    "        serie_sum = serie.sum()\n",
    "        serie = serie.apply(lambda x: x/serie_sum*100)\n",
    "        # print(serie.sum())\n",
    "        serie_list.append(serie)\n",
    "    return pd.DataFrame(serie_list)"
   ]
  },
  {
   "cell_type": "code",
   "execution_count": null,
   "id": "ba3f25a8-cb1a-4fac-8d9c-e8bdb88af9cd",
   "metadata": {},
   "outputs": [],
   "source": [
    "professional_series = no_millionaires[\"DevType\"]\n",
    "factor_series = no_millionaires[\"DatabaseWorkedWith\"]\n",
    "professional_types = professional_series.str.get_dummies(\";\").columns\n",
    "dummy_df = factor_series.str.get_dummies(\";\")\n",
    "serie_list = []\n",
    "for typ in professional_types:\n",
    "    serie = pd.Series(dummy_df[factor_series == typ].sum(), name=typ)\n",
    "    serie_list.append(serie)\n",
    "# pd.DataFrame(serie_list)"
   ]
  },
  {
   "cell_type": "code",
   "execution_count": null,
   "id": "da83d4de-23c0-42b3-8821-3277121dd40b",
   "metadata": {},
   "outputs": [],
   "source": [
    "typ"
   ]
  },
  {
   "cell_type": "code",
   "execution_count": null,
   "id": "8cc5e631-3ebb-4134-bba9-68f81cc2a716",
   "metadata": {},
   "outputs": [],
   "source": [
    "typ = professional_types[3]\n",
    "serie = pd.Series(dummy_df[professional_series == typ].sum(), name=typ)\n",
    "serie = serie.apply(lambda x: x/serie.sum())\n",
    "serie.sum()"
   ]
  },
  {
   "cell_type": "code",
   "execution_count": null,
   "id": "f9378654-2bf7-4407-a821-0a763842a969",
   "metadata": {
    "tags": []
   },
   "outputs": [],
   "source": [
    "no_millionaires[\"DevType\"].str.get_dummies(\";\").columns"
   ]
  },
  {
   "cell_type": "code",
   "execution_count": null,
   "id": "7b2eced2-1eed-442a-b458-62c9ed001bd1",
   "metadata": {},
   "outputs": [],
   "source": [
    "pd.options.display.float_format = '{:.3f}'.format\n",
    "most_used_DB_by_professional = get_most_used_by_job_type(no_millionaires[\"DevType\"], no_millionaires[\"DatabaseWorkedWith\"])"
   ]
  },
  {
   "cell_type": "code",
   "execution_count": null,
   "id": "ac76db9f-ab4b-4e61-ae00-d9e8e323789a",
   "metadata": {},
   "outputs": [],
   "source": [
    "palette = [\n",
    "    \"#333333\",\n",
    "    \"#800000\",\n",
    "    \"#808000\",\n",
    "    \"#bc8f8f\",\n",
    "    \"#4b0082\",\n",
    "    \"#00ced1\",\n",
    "    \"#ff8c00\",\n",
    "    \"#006400\",\n",
    "    \"#00ff00\",\n",
    "    \"#0000ff\",\n",
    "    \"#2f4f4f\",\n",
    "    \"#1e90ff\",\n",
    "    \"#ff1493\",\n",
    "    \"#98fb98\",\n",
    "]\n",
    "# 85% black    \n",
    "# maroon   \n",
    "# olive\n",
    "# rosybrown\n",
    "# indigo\n",
    "# darkturquoise\n",
    "# darkorange\n",
    "# darkgreen\n",
    "# lime\n",
    "# blue\n",
    "# darkslategray\n",
    "# dodgerblue \n",
    "# deeppink\n",
    "# palegreen\n"
   ]
  },
  {
   "cell_type": "code",
   "execution_count": null,
   "id": "320ed54d-59e6-429f-af60-8d4089a41af9",
   "metadata": {},
   "outputs": [],
   "source": [
    "sort_df = most_used_DB_by_professional.sum().sort_values(ascending=False)"
   ]
  },
  {
   "cell_type": "code",
   "execution_count": null,
   "id": "31936a66-f137-4b37-b017-ebe65cb6f71b",
   "metadata": {},
   "outputs": [],
   "source": [
    "most_used_DB_by_professional = most_used_DB_by_professional.loc[average_salary.index]"
   ]
  },
  {
   "cell_type": "code",
   "execution_count": null,
   "id": "2199aa6f-97cf-493b-988c-d1f05d3f3436",
   "metadata": {},
   "outputs": [],
   "source": [
    "most_used_DB_by_professional[sort_df.index].plot(kind=\"barh\", stacked=True, figsize=(10,10), color = palette)\n",
    "plt.legend(loc='center right', bbox_to_anchor=(1.3, 0.5))\n",
    "plt.title(\"Most used DB's by professional, %\")\n",
    "plt.show()"
   ]
  },
  {
   "cell_type": "code",
   "execution_count": null,
   "id": "52e1b86d-5f46-4ed6-89f9-47f0c272c044",
   "metadata": {},
   "outputs": [],
   "source": [
    "def get_sort_and_plot_types_by_factor(professional_series, factor_series):\n",
    "    most_used_features = get_most_used_by_job_type(professional_series, factor_series)\n",
    "    \n",
    "    #Sort features by most used\n",
    "    sort_df_stack = most_used_features.sum().sort_values(ascending=False)\n",
    "    \n",
    "    try: #Sort by salary\n",
    "        most_used_features = most_used_features.loc[average_salary.index]\n",
    "    except Exception:\n",
    "        print(\"Could not sort by salary\")\n",
    "    \n",
    "    palette = [\"#333333\",\"#800000\",\"#808000\",\"#bc8f8f\",\"#4b0082\",\"#00ced1\",\"#ff8c00\",\"#006400\",\"#00ff00\",\"#0000ff\",\"#2f4f4f\",\"#1e90ff\",\"#ff1493\",\"#98fb98\"]\n",
    "    \n",
    "    most_used_features[sort_df_stack.index].plot(kind=\"barh\", stacked=True, figsize=(10,10), color = palette)\n",
    "    plt.legend(loc='center right', bbox_to_anchor=(1.4, 0.5))\n",
    "    plt.title(f\"Most {factor_series.name} by {professional_series.name}, %\")\n",
    "    plt.show()"
   ]
  },
  {
   "cell_type": "code",
   "execution_count": null,
   "id": "c772a76c-94a8-4730-97fa-5e20781ade4e",
   "metadata": {},
   "outputs": [],
   "source": [
    "get_sort_and_plot_types_by_factor(no_millionaires[\"DevType\"], no_millionaires[\"DatabaseWorkedWith\"])"
   ]
  },
  {
   "cell_type": "code",
   "execution_count": null,
   "id": "7f98babb-a8be-4f30-bfb4-2b68fb518e8b",
   "metadata": {},
   "outputs": [],
   "source": [
    "technologies_comparison_plot_list = [\"DatabaseWorkedWith\", \"LanguageWorkedWith\", \"MiscTechWorkedWith\", \"PlatformWorkedWith\", \"WebframeWorkedWith\"]"
   ]
  },
  {
   "cell_type": "code",
   "execution_count": null,
   "id": "b5aab712-6222-4440-8641-2d1ef134be3e",
   "metadata": {},
   "outputs": [],
   "source": [
    "for plot in technologies_comparison_plot_list:\n",
    "    get_sort_and_plot_types_by_factor(no_millionaires[\"DevType\"], no_millionaires[plot])    "
   ]
  },
  {
   "cell_type": "code",
   "execution_count": null,
   "id": "e8509025-8537-4d5b-88fd-ca9e7ab9e25b",
   "metadata": {},
   "outputs": [],
   "source": []
  }
 ],
 "metadata": {
  "kernelspec": {
   "display_name": "Python 3 (ipykernel)",
   "language": "python",
   "name": "python3"
  },
  "language_info": {
   "codemirror_mode": {
    "name": "ipython",
    "version": 3
   },
   "file_extension": ".py",
   "mimetype": "text/x-python",
   "name": "python",
   "nbconvert_exporter": "python",
   "pygments_lexer": "ipython3",
   "version": "3.9.12"
  }
 },
 "nbformat": 4,
 "nbformat_minor": 5
}
